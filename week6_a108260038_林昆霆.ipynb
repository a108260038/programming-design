{
  "nbformat": 4,
  "nbformat_minor": 0,
  "metadata": {
    "colab": {
      "name": "week6 a108260038 林昆霆",
      "provenance": [],
      "collapsed_sections": []
    },
    "kernelspec": {
      "name": "python3",
      "display_name": "Python 3"
    }
  },
  "cells": [
    {
      "cell_type": "code",
      "metadata": {
        "id": "fnltjqvgUVXJ",
        "colab_type": "code",
        "outputId": "a44581c2-8b2b-4e32-b470-de7ceb954713",
        "colab": {
          "base_uri": "https://localhost:8080/",
          "height": 102
        }
      },
      "source": [
        "第一次期中考=int(input('請輸入第一次期中考成績'))\n",
        "第二次期中考=int(input('請輸入第二次期中考成績'))\n",
        "期末考=int(input('請輸入期末考成績'))\n",
        "總分=第一次期中考+第二次期中考+期末考\n",
        "平均=總分/3\n",
        "print('總分為',總分)\n",
        "print('平均',平均)"
      ],
      "execution_count": 0,
      "outputs": [
        {
          "output_type": "stream",
          "text": [
            "請輸入第一次期中考成績75\n",
            "請輸入第二次期中考成績80\n",
            "請輸入期末考成績65\n",
            "總分為 220\n",
            "平均 73.33333333333333\n"
          ],
          "name": "stdout"
        }
      ]
    },
    {
      "cell_type": "code",
      "metadata": {
        "id": "poiEImeYaydK",
        "colab_type": "code",
        "outputId": "b4585504-b59e-43cb-9035-46224ea57fad",
        "colab": {
          "base_uri": "https://localhost:8080/",
          "height": 68
        }
      },
      "source": [
        "尺=int(input('請輸入幾尺'))\n",
        "吋=int(input('請輸入幾吋'))\n",
        "公分=尺*12*2.54+吋*2.54\n",
        "print('轉換成',公分) #公分"
      ],
      "execution_count": 0,
      "outputs": [
        {
          "output_type": "stream",
          "text": [
            "請輸入幾尺5\n",
            "請輸入幾吋8\n",
            "轉換成 172.72\n"
          ],
          "name": "stdout"
        }
      ]
    },
    {
      "cell_type": "code",
      "metadata": {
        "id": "nBOhPf--bky-",
        "colab_type": "code",
        "outputId": "1e7898bd-462d-4092-d188-39e8d3186572",
        "colab": {
          "base_uri": "https://localhost:8080/",
          "height": 51
        }
      },
      "source": [
        "座號=int(input('請輸入座號'))\n",
        "組別=int(座號/4)\n",
        "print('組別為',組別)"
      ],
      "execution_count": 0,
      "outputs": [
        {
          "output_type": "stream",
          "text": [
            "請輸入座號19\n",
            "組別為 4\n"
          ],
          "name": "stdout"
        }
      ]
    },
    {
      "cell_type": "code",
      "metadata": {
        "id": "uTRNtsvNdRCX",
        "colab_type": "code",
        "outputId": "cb8e8e54-f7df-476b-8665-37c716c1717a",
        "colab": {
          "base_uri": "https://localhost:8080/",
          "height": 51
        }
      },
      "source": [
        "罐數=int(input('請輸入購買罐數?'))\n",
        "打=int(罐數/12)\n",
        "花費=(打*200)+(罐數-打*12)*20\n",
        "print('需花費',花費)"
      ],
      "execution_count": 0,
      "outputs": [
        {
          "output_type": "stream",
          "text": [
            "請輸入購買罐數?30\n",
            "需花費 520\n"
          ],
          "name": "stdout"
        }
      ]
    },
    {
      "cell_type": "code",
      "metadata": {
        "id": "XU2IoiPwdms9",
        "colab_type": "code",
        "colab": {}
      },
      "source": [
        ""
      ],
      "execution_count": 0,
      "outputs": []
    }
  ]
}